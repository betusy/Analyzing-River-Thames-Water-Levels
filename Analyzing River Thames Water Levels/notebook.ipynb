{
 "cells": [
  {
   "cell_type": "markdown",
   "metadata": {},
   "source": [
    "Analyzing River Thames Water Levels\n",
    "Time series data is everywhere, from watching your stock portfolio to monitoring climate change, and even live-tracking as local cases of a virus become a global pandemic. In this project, you’ll work with a time series that tracks the tide levels of the Thames River. You’ll first load the data and inspect it data visually, and then perform calculations on the dataset to generate some summary statistics. You’ll end by decomposing the time series into its component attributes and analyzing them.\n",
    "\n",
    "The original dataset is available from the British Oceanographic Data Center here(https://www.bodc.ac.uk/data/published_data_library/catalogue/10.5285/b66afb2c-cd53-7de9-e053-6c86abc0d251) and you can read all about this fascinating archival story in this article from(https://www.nature.com/articles/s41597-022-01223-7) the Nature journal.\n",
    "\n",
    "Here's a map of the locations of the tidal gauges along the River Thames in London.\n",
    "\n",
    "The dataset comes with a file called Data_description.pdf. The dataset consists of 13 .txt files, containing comma separated data. We'll begin by analyzing one of them, the London Bridge gauge, and preparing it for analysis. The same code can be used to analyze data from other files (i.e. other gauges along the river) later.\n",
    "\n",
    "Variable Name-Description Format\n",
    "Date and time: Date and time of measurement to GMT. Note the tide gauge is accurate to one minute.\tdd/mm/yyyy hh:mm:ss\n",
    "\n",
    "Water level: High or low water level measured by tide gauge. Tide gauges are accurate to 1 centimetre.\tmetres (Admiralty Chart Datum (CD), Ordnance Datum Newlyn (ODN or Trinity High Water (THW))\n",
    "\n",
    "Flag: High water flag = 1, low water flag = 0\tCategorical (0 or 1)"
   ]
  },
  {
   "cell_type": "code",
   "execution_count": null,
   "metadata": {},
   "outputs": [],
   "source": [
    "# Package imports\n",
    "import pandas as pd                \n",
    "from scipy.stats import iqr\n",
    "\n",
    "def IQR(column): \n",
    "    q25, q75 = column.quantile([0.25, 0.75])\n",
    "    return q75-q25\n",
    "\n",
    "# Load the data from London Bridge\n",
    "lb = pd.read_csv('data/10-11_London_Bridge.txt') # Comma-separated .txt file\n",
    "\n",
    "# Take only the first three columns\n",
    "df = lb.iloc[:, :3]\n",
    "\n",
    "# Rename columns\n",
    "df.columns = ['datetime', 'water_level', 'is_high_tide']\n",
    "\n",
    "# Convert to datetime\n",
    "df['datetime'] = pd.to_datetime(df['datetime'])\n",
    "\n",
    "# Convert to float\n",
    "df['water_level'] = df.water_level.astype(float)\n",
    "\n",
    "# Create extra month and year columns for easy access\n",
    "df['month'] = df['datetime'].dt.month\n",
    "df['year'] = df['datetime'].dt.year\n",
    "\n",
    "# Filter df for high and low tide\n",
    "tide_high = df.query('is_high_tide==1')['water_level']\n",
    "tide_low = df.query('is_high_tide==0')['water_level']\n",
    "\n",
    "# Create summary statistics\n",
    "high_statistics = tide_high.agg({'mean', 'median', IQR})\n",
    "low_statistics = tide_low.agg({'mean', 'median', IQR})\n",
    "\n",
    "# Calculate ratio of high tide days\n",
    "all_high_days = df.query('is_high_tide==1').groupby('year').count()['water_level']\n",
    "high_days = df.query(f'(water_level>{tide_high.quantile(.75)}) & (is_high_tide==1)').groupby('year').count()['water_level']\n",
    "high_ratio = (high_days/all_high_days).reset_index()\n",
    "\n",
    "# Calculate ratio of low tide days\n",
    "all_low_days = df.query('is_high_tide==0').groupby('year').count()['water_level']\n",
    "low_days = df.query(f'(water_level<{tide_low.quantile(.25)}) & (is_high_tide==0)').groupby('year').count()['water_level']\n",
    "low_ratio = (low_days/all_low_days).reset_index()\n",
    "\n",
    "solution = {'high_statistics': high_statistics, 'low_statistics': low_statistics, 'high_ratio': high_ratio, 'low_ratio':low_ratio}\n",
    "print(solution)"
   ]
  }
 ],
 "metadata": {
  "language_info": {
   "name": "python"
  },
  "orig_nbformat": 4
 },
 "nbformat": 4,
 "nbformat_minor": 2
}
